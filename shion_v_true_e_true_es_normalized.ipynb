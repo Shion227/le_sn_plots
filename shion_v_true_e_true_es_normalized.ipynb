{
 "cells": [
  {
   "cell_type": "code",
   "execution_count": 6,
   "id": "b11f801d",
   "metadata": {},
   "outputs": [],
   "source": [
    "import numpy as np\n",
    "import random\n",
    "import matplotlib.pyplot as plt\n",
    "from matplotlib.ticker import NullFormatter\n",
    "from mpl_toolkits.axes_grid1.inset_locator import inset_axes\n",
    "from matplotlib import ticker\n",
    "from matplotlib.ticker import AutoMinorLocator, MultipleLocator"
   ]
  },
  {
   "cell_type": "code",
   "execution_count": 7,
   "id": "a1f39b3f",
   "metadata": {},
   "outputs": [],
   "source": [
    "es_v_true_e_true = np.load('shion_data/shion_v_true_e_true_es_normalized.npy')[0]\n",
    "es_energy = np.load('shion_data/shion_v_true_e_true_es_normalized.npy')[1]\n",
    "weight = np.load('shion_data/shion_v_true_e_true_es_normalized.npy')[2]\n",
    "weightE = np.load('shion_data/shion_v_true_e_true_es_normalized.npy')[3]"
   ]
  },
  {
   "cell_type": "code",
   "execution_count": 8,
   "id": "fc973900",
   "metadata": {},
   "outputs": [
    {
     "data": {
      "image/png": "[encoded data removed]",
      "text/plain": [
       "<Figure size 648x504 with 5 Axes>"
      ]
     },
     "metadata": {
      "needs_background": "light"
     },
     "output_type": "display_data"
    }
   ],
   "source": [
    "xData = es_energy\n",
    "yData = es_v_true_e_true\n",
    "esNum = 145\n",
    "\n",
    "#nuEnArr, thetaArr\n",
    "nullfmt = NullFormatter()  # no labels\n",
    "# definitions for the axes\n",
    "left, width = 0.11, 0.65\n",
    "bottom, height = 0.11, 0.65\n",
    "bottom_h = left_h = left + width + 0.02\n",
    "\n",
    "rect_hist2d = [left, bottom, width, height]\n",
    "rect_histx = [left, bottom_h, width, 0.2]\n",
    "rect_histy = [left_h, bottom, 0.2, height]\n",
    "# rect_cbar = [left_h, bottom_h, 0.2, 0.2]\n",
    "    \n",
    "# start with a rectangular Figure\n",
    "fig = plt.figure(1, figsize=(9, 7))\n",
    "    \n",
    "axHist2D = plt.axes(rect_hist2d)\n",
    "axHist2D.set_aspect(24)\n",
    "axHistX = plt.axes(rect_histx)\n",
    "axHistY = plt.axes(rect_histy)\n",
    "# axCBar = plt.axes(rect_cbar)\n",
    "# axCBar.axis(\"off\")\n",
    "    \n",
    "# no labels\n",
    "axHistX.xaxis.set_major_formatter(nullfmt)\n",
    "axHistY.yaxis.set_major_formatter(nullfmt)\n",
    "    \n",
    "energy_bins = np.arange(start=0, stop=50, step=0.5)\n",
    "ang_bins = np.arange(start=-1.02, stop=1.02, step=0.02)\n",
    "\n",
    "weight_en = np.full(shape=len(xData), fill_value = esNum/len(xData))\n",
    "weight_ang = np.full(shape=len(yData), fill_value = esNum/len(yData))\n",
    "weight_2d = np.full(shape=len(yData), fill_value = esNum/len(yData))\n",
    "h, xedges, yedges, im = axHist2D.hist2d(xData, yData, bins=[energy_bins, ang_bins], weights = weight_2d)\n",
    "im.set_rasterized(True)\n",
    "axHist2D.set_ylim(bottom=-1, top=1)\n",
    "    \n",
    "# color bar\n",
    "cbbox = inset_axes(axHist2D, \"17.5%\", \"90%\", loc=5)\n",
    "[ cbbox.spines[k].set_visible(False) for k in cbbox.spines ]\n",
    "cbbox.tick_params(axis=\"both\", left=False, top=False, right=False,\n",
    "                    bottom=False, labelleft=False, labeltop=False,\n",
    "                    labelright=False, labelbottom=False)\n",
    "cbbox.set_facecolor([1, 1, 1, 0.7])\n",
    "cbax = inset_axes(cbbox, '30%', '95%', loc=6)\n",
    "# cbax.axis(\"off\")\n",
    "cb = plt.colorbar(im, cax=cbax, orientation=\"vertical\")\n",
    "cb.set_label(\"CC neutrino events per 0.02 per 0.5 MeV\", rotation=90, fontsize=9)\n",
    "cb.ax.tick_params(labelsize=5)\n",
    "    \n",
    "tick_locator = ticker.MaxNLocator(integer=True)\n",
    "cb.locator = tick_locator\n",
    "cb.update_ticks()\n",
    "    \n",
    "# bins = np.arange(-lim, lim + binwidth, binwidth)\n",
    "axHistX.hist(xData, bins=energy_bins, histtype=\"stepfilled\", weights = weight_en)\n",
    "axHistY.hist(yData, bins=ang_bins, histtype=\"stepfilled\", orientation=\"horizontal\", weights = weight_ang)\n",
    "    \n",
    "axHistX.set_xlim(axHist2D.get_xlim())\n",
    "axHistY.set_ylim(axHist2D.get_ylim())\n",
    "    \n",
    "name = \"time_vs_energy_proj\"\n",
    "    \n",
    "axHist2D.tick_params(axis=\"both\", which=\"major\", labelsize=10)\n",
    "axHistX.tick_params(axis=\"both\", which=\"major\", labelsize=10)\n",
    "axHistY.tick_params(axis=\"both\", which=\"major\", labelsize=10)\n",
    "\n",
    "axHist2D.set_xlabel(\"energy [MeV]\", horizontalalignment=\"right\", x=1.0, fontsize=14)\n",
    "axHist2D.set_ylabel(\"Cos($\\u03B8_{\\u03BD_{true}}$ - $\\u03B8_{e_{true}}$)\", horizontalalignment=\"right\", y=1.0, fontsize=14)\n",
    "    \n",
    "axHist2D.xaxis.set_minor_locator(AutoMinorLocator())\n",
    "axHist2D.yaxis.set_minor_locator(AutoMinorLocator())\n",
    "axHistX.xaxis.set_minor_locator(AutoMinorLocator())\n",
    "axHistX.yaxis.set_minor_locator(AutoMinorLocator())\n",
    "axHistY.xaxis.set_minor_locator(AutoMinorLocator())\n",
    "axHistY.yaxis.set_minor_locator(AutoMinorLocator())\n",
    "\n",
    "plt.show()"
   ]
  },
  {
   "cell_type": "code",
   "execution_count": null,
   "id": "c0f97f9d",
   "metadata": {},
   "outputs": [],
   "source": []
  }
 ],
 "metadata": {
  "kernelspec": {
   "display_name": "Python 3",
   "language": "python",
   "name": "python3"
  },
  "language_info": {
   "codemirror_mode": {
    "name": "ipython",
    "version": 3
   },
   "file_extension": ".py",
   "mimetype": "text/x-python",
   "name": "python",
   "nbconvert_exporter": "python",
   "pygments_lexer": "ipython3",
   "version": "3.8.8"
  }
 },
 "nbformat": 4,
 "nbformat_minor": 5
}
